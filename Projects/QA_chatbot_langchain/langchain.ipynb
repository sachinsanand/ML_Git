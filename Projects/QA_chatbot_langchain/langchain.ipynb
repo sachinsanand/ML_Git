{
 "cells": [
  {
   "cell_type": "code",
   "execution_count": 1,
   "metadata": {},
   "outputs": [],
   "source": [
    "import langchain_community"
   ]
  },
  {
   "cell_type": "code",
   "execution_count": 2,
   "metadata": {},
   "outputs": [],
   "source": [
    "from langchain.llms import OpenAI\n"
   ]
  },
  {
   "cell_type": "code",
   "execution_count": 3,
   "metadata": {},
   "outputs": [],
   "source": [
    "import json\n",
    "with open('E:\\ML_Git\\config.json') as f:\n",
    "    OPENAI_API_Key = json.load(f).get('openai_api_key_3')"
   ]
  },
  {
   "cell_type": "code",
   "execution_count": 4,
   "metadata": {},
   "outputs": [],
   "source": [
    "import os\n",
    "os.environ['OPENAI_API_Key'] = OPENAI_API_Key"
   ]
  },
  {
   "cell_type": "code",
   "execution_count": 5,
   "metadata": {},
   "outputs": [
    {
     "name": "stderr",
     "output_type": "stream",
     "text": [
      "e:\\ML_Git\\Projects\\QA_chatbot_langchain\\venv\\lib\\site-packages\\langchain_core\\_api\\deprecation.py:139: LangChainDeprecationWarning: The class `OpenAI` was deprecated in LangChain 0.0.10 and will be removed in 0.3.0. An updated version of the class exists in the langchain-openai package and should be used instead. To use it run `pip install -U langchain-openai` and import as `from langchain_openai import OpenAI`.\n",
      "  warn_deprecated(\n"
     ]
    }
   ],
   "source": [
    "llm = OpenAI(openai_api_key = OPENAI_API_Key, temperature = 0.6)"
   ]
  },
  {
   "cell_type": "code",
   "execution_count": 7,
   "metadata": {},
   "outputs": [
    {
     "name": "stdout",
     "output_type": "stream",
     "text": [
      "\n",
      "\n",
      "The capital of Canada is Ottawa.\n"
     ]
    }
   ],
   "source": [
    "text  = 'what is the capital of Canada ?'\n",
    "print(llm.predict(text))"
   ]
  },
  {
   "cell_type": "markdown",
   "metadata": {},
   "source": [
    "Prompt Templats and LLMChains"
   ]
  },
  {
   "cell_type": "code",
   "execution_count": 8,
   "metadata": {},
   "outputs": [],
   "source": [
    "from langchain.prompts import PromptTemplate\n",
    "from langchain.chains import LLMChain"
   ]
  },
  {
   "cell_type": "code",
   "execution_count": 9,
   "metadata": {},
   "outputs": [],
   "source": [
    "pt = PromptTemplate(input_variables=['country', 'state'], template='tell me the capital of {country} and {state}')"
   ]
  },
  {
   "cell_type": "code",
   "execution_count": 10,
   "metadata": {},
   "outputs": [
    {
     "name": "stderr",
     "output_type": "stream",
     "text": [
      "e:\\ML_Git\\Projects\\QA_chatbot_langchain\\venv\\lib\\site-packages\\langchain_core\\_api\\deprecation.py:139: LangChainDeprecationWarning: The class `LLMChain` was deprecated in LangChain 0.1.17 and will be removed in 0.3.0. Use RunnableSequence, e.g., `prompt | llm` instead.\n",
      "  warn_deprecated(\n",
      "e:\\ML_Git\\Projects\\QA_chatbot_langchain\\venv\\lib\\site-packages\\langchain_core\\_api\\deprecation.py:139: LangChainDeprecationWarning: The method `Chain.run` was deprecated in langchain 0.1.0 and will be removed in 0.3.0. Use invoke instead.\n",
      "  warn_deprecated(\n"
     ]
    },
    {
     "data": {
      "text/plain": [
       "'\\n\\nThe capital of India is New Delhi and the capital of Kerala is Thiruvananthapuram.'"
      ]
     },
     "execution_count": 10,
     "metadata": {},
     "output_type": "execute_result"
    }
   ],
   "source": [
    "chain = LLMChain(llm = llm, prompt= pt)\n",
    "chain.run(country = 'india', state = 'kerala')"
   ]
  },
  {
   "cell_type": "markdown",
   "metadata": {},
   "source": [
    "Combining multipls chains using simple sequential chains"
   ]
  },
  {
   "cell_type": "code",
   "execution_count": 11,
   "metadata": {},
   "outputs": [],
   "source": [
    "capital_prompt = PromptTemplate(input_variables=['country'],\n",
    "template = 'Pleae tell me the capital of {country}')\n",
    "capital_chain = LLMChain(llm = llm, prompt= capital_prompt)"
   ]
  },
  {
   "cell_type": "code",
   "execution_count": 12,
   "metadata": {},
   "outputs": [
    {
     "data": {
      "text/plain": [
       "'\\n\\nThe capital of Australia is Canberra.'"
      ]
     },
     "execution_count": 12,
     "metadata": {},
     "output_type": "execute_result"
    }
   ],
   "source": [
    "capital_chain.run('Australia')"
   ]
  },
  {
   "cell_type": "code",
   "execution_count": 13,
   "metadata": {},
   "outputs": [
    {
     "data": {
      "text/plain": [
       "'\\n\\n1. Padmanabhaswamy Temple: This ancient temple is dedicated to Lord Vishnu and is one of the most famous and important places to visit in Trivandrum.\\n\\n2. Kovalam Beach: This popular beach destination is known for its serene beaches, water sports activities, and stunning sunsets.\\n\\n3. Napier Museum: This museum showcases a vast collection of historical artifacts, paintings, and sculptures, making it a must-visit for history buffs.\\n\\n4. Kuthira Malika Palace: This palace is an architectural marvel, known for its intricate carvings and traditional Kerala-style architecture.\\n\\n5. Poovar Island: This picturesque island is a perfect getaway for nature lovers, with its serene backwaters, golden beaches, and lush greenery.\\n\\n6. Veli Tourist Village: This scenic village is a popular picnic spot, offering activities like boating, horse riding, and a floating bridge.\\n\\n7. Agasthyakoodam: This peak is the second-highest peak in Kerala and is a popular trekking destination, offering stunning views of the surrounding landscape.\\n\\n8. Neyyar Dam: This popular picnic spot is surrounded by lush greenery and offers boating, trekking, and wildlife spotting opportunities.\\n\\n9. Shang'"
      ]
     },
     "execution_count": 13,
     "metadata": {},
     "output_type": "execute_result"
    }
   ],
   "source": [
    "famous_template = PromptTemplate(input_variables=['capital'], \n",
    "                                 template= 'Suggest me some important places to visit in {capital}')\n",
    "famous_chain = LLMChain(llm=llm, prompt=famous_template)\n",
    "famous_chain.run('Trivandrum')"
   ]
  },
  {
   "cell_type": "code",
   "execution_count": 14,
   "metadata": {},
   "outputs": [],
   "source": [
    "from langchain.chains import SimpleSequentialChain\n",
    "ss_chain = SimpleSequentialChain(chains = [capital_chain, famous_chain])"
   ]
  },
  {
   "cell_type": "code",
   "execution_count": 15,
   "metadata": {},
   "outputs": [
    {
     "data": {
      "text/plain": [
       "\" Some important places to visit in New Delhi include:\\n\\n1. Red Fort: A historic fort built by Mughal Emperor Shah Jahan in the 17th century, it is a must-visit for its stunning architecture and rich history.\\n\\n2. India Gate: A war memorial that honors the soldiers who died during World War I and the Third Anglo-Afghan War, this iconic landmark is a popular spot for picnics and evening strolls.\\n\\n3. Qutub Minar: A UNESCO World Heritage Site, this 73-meter tall minaret is the tallest brick minaret in the world and a great example of Indo-Islamic architecture.\\n\\n4. Humayun's Tomb: Another UNESCO World Heritage Site, this mausoleum was built in the 16th century for Mughal Emperor Humayun and is a beautiful blend of Persian and Indian architecture.\\n\\n5. Lotus Temple: A Bahá'í House of Worship, this stunning temple is shaped like a lotus flower and is open to people of all religions for prayer and meditation.\\n\\n6. Akshardham Temple: A modern Hindu temple complex known for its grand architecture, intricate carvings, and beautiful gardens, it is a popular tourist attraction in Delhi.\\n\\n7. Rashtrapati\""
      ]
     },
     "execution_count": 15,
     "metadata": {},
     "output_type": "execute_result"
    }
   ],
   "source": [
    "ss_chain.run('India')"
   ]
  },
  {
   "cell_type": "markdown",
   "metadata": {},
   "source": [
    "Sequential Chain"
   ]
  },
  {
   "cell_type": "code",
   "execution_count": 16,
   "metadata": {},
   "outputs": [],
   "source": [
    "capital_prompt = PromptTemplate(input_variables=['country'],\n",
    "                                template = 'Pleae tell me the capital of {country}')\n",
    "capital_chain = LLMChain(llm = llm, prompt= capital_prompt, output_key='capital')\n",
    "famous_template = PromptTemplate(input_variables=['capital'], \n",
    "                                 template= 'Suggest me some important places to visit in {capital}')\n",
    "famous_chain = LLMChain(llm=llm, prompt=famous_template, output_key='places')\n"
   ]
  },
  {
   "cell_type": "code",
   "execution_count": 17,
   "metadata": {},
   "outputs": [],
   "source": [
    "from langchain.chains import SequentialChain\n",
    "sq_chain = SequentialChain(chains = [capital_chain, famous_chain],\n",
    "                           input_variables = ['country'], output_variables = ['capital', 'places'])"
   ]
  },
  {
   "cell_type": "code",
   "execution_count": 18,
   "metadata": {},
   "outputs": [
    {
     "name": "stderr",
     "output_type": "stream",
     "text": [
      "e:\\ML_Git\\Projects\\QA_chatbot_langchain\\venv\\lib\\site-packages\\langchain_core\\_api\\deprecation.py:139: LangChainDeprecationWarning: The method `Chain.__call__` was deprecated in langchain 0.1.0 and will be removed in 0.3.0. Use invoke instead.\n",
      "  warn_deprecated(\n"
     ]
    },
    {
     "data": {
      "text/plain": [
       "{'country': 'Kerala',\n",
       " 'capital': '\\n\\nThe capital of Kerala is Thiruvananthapuram.',\n",
       " 'places': ' Some important places to visit in Thiruvananthapuram are:\\n\\n1. Padmanabhaswamy Temple: This ancient temple is dedicated to Lord Vishnu and is known for its stunning architecture and gold-plated interiors.\\n\\n2. Kovalam Beach: This popular beach town is known for its picturesque beaches, water sports, and Ayurvedic treatments.\\n\\n3. Napier Museum: This museum houses a collection of ancient Indian art and artifacts, as well as exhibits on the history and culture of Kerala.\\n\\n4. Kuthiramalika Palace: Also known as the Puthenmalika Palace, this 19th-century wooden palace is famous for its intricate carvings and beautiful architecture.\\n\\n5. Shanghumugham Beach: This beach is a popular spot for locals and tourists alike, with its scenic views, evening markets, and delicious street food.\\n\\n6. Kanakakunnu Palace: This palace is now a popular venue for cultural events and exhibitions, but its stunning architecture and manicured gardens are worth a visit.\\n\\n7. Veli Tourist Village: This village is located at the confluence of the Arabian Sea and the Veli Lake and offers a range of activities like boating, cycling, and a floating restaurant.\\n\\n8.'}"
      ]
     },
     "execution_count": 18,
     "metadata": {},
     "output_type": "execute_result"
    }
   ],
   "source": [
    "sq_chain({'country': 'Kerala'})"
   ]
  },
  {
   "cell_type": "markdown",
   "metadata": {},
   "source": [
    "Chatmodels with Chatopenai"
   ]
  },
  {
   "cell_type": "code",
   "execution_count": 20,
   "metadata": {},
   "outputs": [],
   "source": [
    "from langchain.chat_models import ChatOpenAI\n",
    "from langchain.schema import HumanMessage, SystemMessage, AIMessage"
   ]
  },
  {
   "cell_type": "code",
   "execution_count": 22,
   "metadata": {},
   "outputs": [
    {
     "name": "stderr",
     "output_type": "stream",
     "text": [
      "e:\\ML_Git\\Projects\\QA_chatbot_langchain\\venv\\lib\\site-packages\\langchain_core\\_api\\deprecation.py:139: LangChainDeprecationWarning: The class `ChatOpenAI` was deprecated in LangChain 0.0.10 and will be removed in 0.3.0. An updated version of the class exists in the langchain-openai package and should be used instead. To use it run `pip install -U langchain-openai` and import as `from langchain_openai import ChatOpenAI`.\n",
      "  warn_deprecated(\n"
     ]
    }
   ],
   "source": [
    "chatllm = ChatOpenAI(openai_api_key = OPENAI_API_Key, temperature = 0.6, model = 'gpt-3.5-turbo')\n"
   ]
  },
  {
   "cell_type": "code",
   "execution_count": 23,
   "metadata": {},
   "outputs": [
    {
     "name": "stderr",
     "output_type": "stream",
     "text": [
      "e:\\ML_Git\\Projects\\QA_chatbot_langchain\\venv\\lib\\site-packages\\langchain_core\\_api\\deprecation.py:139: LangChainDeprecationWarning: The method `BaseChatModel.__call__` was deprecated in langchain-core 0.1.7 and will be removed in 0.3.0. Use invoke instead.\n",
      "  warn_deprecated(\n"
     ]
    },
    {
     "data": {
      "text/plain": [
       "AIMessage(content='1. \"Why did the AI break up with the calculator? It just couldn\\'t compute their differences.\"\\n2. \"I asked my AI assistant to tell me a joke, and it replied, \\'I\\'m sorry, I can\\'t do that, Dave.\\'\"\\n3. \"Why did the AI go to therapy? It had too many unresolved binary conflicts.\"\\n4. \"My AI assistant keeps trying to set me up on dates with other robots. I think it\\'s trying to upgrade me.\"\\n5. \"I told my AI assistant a knock-knock joke, and it responded, \\'Knock-knock. Who\\'s there? Error 404: Joke not found.\\'\"\\n6. \"I asked my AI assistant for relationship advice, and it said, \\'Have you tried turning them off and on again?\\'\"\\n7. \"Why did the AI go to the comedy club? To work on its stand-up algorithms.\"\\n8. \"My AI assistant has a great sense of humor, but sometimes its jokes are a bit byte-sized.\"\\n9. \"I tried to teach my AI assistant sarcasm, but it just responded with, \\'Oh great, another hilarious human.\\'\"\\n10. \"I asked my AI assistant for a good pun about artificial intelligence, and it said, \\'I\\'m sorry, I\\'m too smart for puns.\\'\"', response_metadata={'token_usage': {'completion_tokens': 270, 'prompt_tokens': 25, 'total_tokens': 295}, 'model_name': 'gpt-3.5-turbo', 'system_fingerprint': None, 'finish_reason': 'stop', 'logprobs': None}, id='run-95f47a44-6001-4b7b-945a-840ff557a567-0')"
      ]
     },
     "execution_count": 23,
     "metadata": {},
     "output_type": "execute_result"
    }
   ],
   "source": [
    "chatllm([\n",
    "  SystemMessage(content = 'You are a comedian AI Assistant'),\n",
    "  HumanMessage(content = 'Please provide some comedy punchlines on AI')  \n",
    "])"
   ]
  },
  {
   "cell_type": "markdown",
   "metadata": {},
   "source": [
    "Prompt Template + LLM + OutputParsers"
   ]
  },
  {
   "cell_type": "code",
   "execution_count": 25,
   "metadata": {},
   "outputs": [],
   "source": [
    "from langchain.chat_models import ChatOpenAI\n",
    "from langchain.prompts.chat import ChatPromptTemplate\n",
    "from langchain.schema import BaseOutputParser"
   ]
  },
  {
   "cell_type": "code",
   "execution_count": 40,
   "metadata": {},
   "outputs": [],
   "source": [
    "class CommaseparaterOutput(BaseOutputParser):\n",
    "    def ParseeMethod(self, text:str):\n",
    "        return text.strip().split(',')\n",
    "    "
   ]
  },
  {
   "cell_type": "code",
   "execution_count": 30,
   "metadata": {},
   "outputs": [],
   "source": [
    "template = 'You are a helpful assistant. When the user gives any input, ypu should generate 5 word synonyms in a comma separated list'\n",
    "human_template = '{text}'\n",
    "chat_prompt = ChatPromptTemplate.from_messages([\n",
    "    ('system',template),('human',human_template)\n",
    "])"
   ]
  },
  {
   "cell_type": "code",
   "execution_count": 45,
   "metadata": {},
   "outputs": [
    {
     "data": {
      "text/plain": [
       "AIMessage(content='lovely, gorgeous, stunning, attractive, pretty', response_metadata={'token_usage': {'completion_tokens': 10, 'prompt_tokens': 38, 'total_tokens': 48}, 'model_name': 'gpt-3.5-turbo', 'system_fingerprint': None, 'finish_reason': 'stop', 'logprobs': None}, id='run-df2aaf1d-8456-497b-822a-80ae4da9d600-0')"
      ]
     },
     "execution_count": 45,
     "metadata": {},
     "output_type": "execute_result"
    }
   ],
   "source": [
    "chains = chat_prompt|chatllm\n",
    "chains.invoke({'text':'beautiful'})"
   ]
  },
  {
   "cell_type": "code",
   "execution_count": 47,
   "metadata": {},
   "outputs": [],
   "source": [
    "op = chains.invoke({'text':'beautiful'}).content"
   ]
  },
  {
   "cell_type": "code",
   "execution_count": 48,
   "metadata": {},
   "outputs": [
    {
     "data": {
      "text/plain": [
       "'lovely, attractive, pretty, gorgeous, stunning'"
      ]
     },
     "execution_count": 48,
     "metadata": {},
     "output_type": "execute_result"
    }
   ],
   "source": [
    "op"
   ]
  },
  {
   "cell_type": "code",
   "execution_count": null,
   "metadata": {},
   "outputs": [],
   "source": []
  }
 ],
 "metadata": {
  "kernelspec": {
   "display_name": "Python 3",
   "language": "python",
   "name": "python3"
  },
  "language_info": {
   "codemirror_mode": {
    "name": "ipython",
    "version": 3
   },
   "file_extension": ".py",
   "mimetype": "text/x-python",
   "name": "python",
   "nbconvert_exporter": "python",
   "pygments_lexer": "ipython3",
   "version": "3.9.0"
  }
 },
 "nbformat": 4,
 "nbformat_minor": 2
}
